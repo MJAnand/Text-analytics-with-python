{
 "cells": [
  {
   "cell_type": "code",
   "execution_count": 15,
   "metadata": {
    "collapsed": false
   },
   "outputs": [],
   "source": [
    "from textblob.classifiers import NaiveBayesClassifier\n",
    "from textblob import TextBlob\n",
    "\n",
    "train = [\n",
    "    ('It is good', 'positive'),\n",
    "    ('I feel good about it', 'positive'),\n",
    "    ('It is bad', 'negative'),\n",
    "    ('It is good', 'positive'),\n",
    "    ('It is bad', 'negative'),\n",
    "     ('I feel bad about it', 'negative'),\n",
    "     ('I feel it is not bad about', 'positive'),\n",
    "     ('I feel not good about', 'negative')\n",
    " ]\n",
    "\n",
    "\n",
    "test = [\n",
    "     ('It is good', 'positive'),\n",
    "     ('I feel bad about it', 'negative')\n",
    " ]"
   ]
  },
  {
   "cell_type": "code",
   "execution_count": 16,
   "metadata": {
    "collapsed": false
   },
   "outputs": [
    {
     "name": "stdout",
     "output_type": "stream",
     "text": [
      "Accuracy: 1.0\n",
      "positive\n",
      "negative\n"
     ]
    }
   ],
   "source": [
    "NB = NaiveBayesClassifier(train)\n",
    "\n",
    "\n",
    "\n",
    "print(\"Accuracy: {0}\".format(NB.accuracy(test)))\n",
    "\n",
    "print(NB.classify('I feel good about spring'))  # 'positive'\n",
    "print(NB.classify('I feel bad about dark'))   # 'negative'"
   ]
  },
  {
   "cell_type": "code",
   "execution_count": 22,
   "metadata": {
    "collapsed": false
   },
   "outputs": [
    {
     "name": "stdout",
     "output_type": "stream",
     "text": [
      "I feel bad about dark.I feel good about spring.\n",
      "negative\n",
      "5.551115123125783e-17\n",
      "finally darkness is bad.\n",
      "negative\n",
      "-0.3499999999999999\n"
     ]
    }
   ],
   "source": [
    "#Put collect of text in one textblob\n",
    "#and textblob gives the result by sum up wach result of sentence\n",
    "#Classify a TextBlob\n",
    "blob = TextBlob(\"I feel bad about dark.\"      # 'negative'\n",
    "                \"I feel good about spring. \"  # 'positive'\n",
    "                \"finally darkness is bad.\"    # 'negative'\n",
    "                , classifier=NB)        #sum up='negative'\n",
    "#print(blob)\n",
    "#print(blob.classify())\n",
    "\n",
    "\n",
    "for sentence in blob.sentences:\n",
    "     print(sentence)\n",
    "     print(sentence.classify())\n",
    "     print(sentence.sentiment.polarity)"
   ]
  },
  {
   "cell_type": "code",
   "execution_count": null,
   "metadata": {
    "collapsed": true
   },
   "outputs": [],
   "source": []
  }
 ],
 "metadata": {
  "anaconda-cloud": {},
  "kernelspec": {
   "display_name": "Python [anaconda]",
   "language": "python",
   "name": "Python [anaconda]"
  },
  "language_info": {
   "codemirror_mode": {
    "name": "ipython",
    "version": 3
   },
   "file_extension": ".py",
   "mimetype": "text/x-python",
   "name": "python",
   "nbconvert_exporter": "python",
   "pygments_lexer": "ipython3",
   "version": "3.5.2"
  }
 },
 "nbformat": 4,
 "nbformat_minor": 2
}
